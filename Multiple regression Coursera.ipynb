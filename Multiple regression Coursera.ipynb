{
    "cells": [
        {
            "metadata": {},
            "cell_type": "code",
            "source": "from matplotlib import pyplot as plt\nimport pandas as pd\nimport numpy as np\nimport pylab as py\n%matplotlib inline",
            "execution_count": 2,
            "outputs": []
        },
        {
            "metadata": {},
            "cell_type": "code",
            "source": "!wget -O FuelConsumption.csv https://cf-courses-data.s3.us.cloud-object-storage.appdomain.cloud/IBMDeveloperSkillsNetwork-ML0101EN-SkillsNetwork/labs/Module%202/data/FuelConsumptionCo2.csv",
            "execution_count": 3,
            "outputs": [
                {
                    "output_type": "stream",
                    "text": "--2021-04-03 00:24:48--  https://cf-courses-data.s3.us.cloud-object-storage.appdomain.cloud/IBMDeveloperSkillsNetwork-ML0101EN-SkillsNetwork/labs/Module%202/data/FuelConsumptionCo2.csv\nResolving cf-courses-data.s3.us.cloud-object-storage.appdomain.cloud (cf-courses-data.s3.us.cloud-object-storage.appdomain.cloud)... 169.63.118.104\nConnecting to cf-courses-data.s3.us.cloud-object-storage.appdomain.cloud (cf-courses-data.s3.us.cloud-object-storage.appdomain.cloud)|169.63.118.104|:443... connected.\nHTTP request sent, awaiting response... 200 OK\nLength: 72629 (71K) [text/csv]\nSaving to: \u2018FuelConsumption.csv\u2019\n\nFuelConsumption.csv 100%[===================>]  70.93K   212KB/s    in 0.3s    \n\n2021-04-03 00:24:49 (212 KB/s) - \u2018FuelConsumption.csv\u2019 saved [72629/72629]\n\n",
                    "name": "stdout"
                }
            ]
        },
        {
            "metadata": {},
            "cell_type": "code",
            "source": "df=pd.read_csv(\"FuelConsumption.csv\")\ndf.head()",
            "execution_count": 4,
            "outputs": [
                {
                    "output_type": "execute_result",
                    "execution_count": 4,
                    "data": {
                        "text/plain": "   MODELYEAR   MAKE       MODEL VEHICLECLASS  ENGINESIZE  CYLINDERS  \\\n0       2014  ACURA         ILX      COMPACT         2.0          4   \n1       2014  ACURA         ILX      COMPACT         2.4          4   \n2       2014  ACURA  ILX HYBRID      COMPACT         1.5          4   \n3       2014  ACURA     MDX 4WD  SUV - SMALL         3.5          6   \n4       2014  ACURA     RDX AWD  SUV - SMALL         3.5          6   \n\n  TRANSMISSION FUELTYPE  FUELCONSUMPTION_CITY  FUELCONSUMPTION_HWY  \\\n0          AS5        Z                   9.9                  6.7   \n1           M6        Z                  11.2                  7.7   \n2          AV7        Z                   6.0                  5.8   \n3          AS6        Z                  12.7                  9.1   \n4          AS6        Z                  12.1                  8.7   \n\n   FUELCONSUMPTION_COMB  FUELCONSUMPTION_COMB_MPG  CO2EMISSIONS  \n0                   8.5                        33           196  \n1                   9.6                        29           221  \n2                   5.9                        48           136  \n3                  11.1                        25           255  \n4                  10.6                        27           244  ",
                        "text/html": "<div>\n<style scoped>\n    .dataframe tbody tr th:only-of-type {\n        vertical-align: middle;\n    }\n\n    .dataframe tbody tr th {\n        vertical-align: top;\n    }\n\n    .dataframe thead th {\n        text-align: right;\n    }\n</style>\n<table border=\"1\" class=\"dataframe\">\n  <thead>\n    <tr style=\"text-align: right;\">\n      <th></th>\n      <th>MODELYEAR</th>\n      <th>MAKE</th>\n      <th>MODEL</th>\n      <th>VEHICLECLASS</th>\n      <th>ENGINESIZE</th>\n      <th>CYLINDERS</th>\n      <th>TRANSMISSION</th>\n      <th>FUELTYPE</th>\n      <th>FUELCONSUMPTION_CITY</th>\n      <th>FUELCONSUMPTION_HWY</th>\n      <th>FUELCONSUMPTION_COMB</th>\n      <th>FUELCONSUMPTION_COMB_MPG</th>\n      <th>CO2EMISSIONS</th>\n    </tr>\n  </thead>\n  <tbody>\n    <tr>\n      <th>0</th>\n      <td>2014</td>\n      <td>ACURA</td>\n      <td>ILX</td>\n      <td>COMPACT</td>\n      <td>2.0</td>\n      <td>4</td>\n      <td>AS5</td>\n      <td>Z</td>\n      <td>9.9</td>\n      <td>6.7</td>\n      <td>8.5</td>\n      <td>33</td>\n      <td>196</td>\n    </tr>\n    <tr>\n      <th>1</th>\n      <td>2014</td>\n      <td>ACURA</td>\n      <td>ILX</td>\n      <td>COMPACT</td>\n      <td>2.4</td>\n      <td>4</td>\n      <td>M6</td>\n      <td>Z</td>\n      <td>11.2</td>\n      <td>7.7</td>\n      <td>9.6</td>\n      <td>29</td>\n      <td>221</td>\n    </tr>\n    <tr>\n      <th>2</th>\n      <td>2014</td>\n      <td>ACURA</td>\n      <td>ILX HYBRID</td>\n      <td>COMPACT</td>\n      <td>1.5</td>\n      <td>4</td>\n      <td>AV7</td>\n      <td>Z</td>\n      <td>6.0</td>\n      <td>5.8</td>\n      <td>5.9</td>\n      <td>48</td>\n      <td>136</td>\n    </tr>\n    <tr>\n      <th>3</th>\n      <td>2014</td>\n      <td>ACURA</td>\n      <td>MDX 4WD</td>\n      <td>SUV - SMALL</td>\n      <td>3.5</td>\n      <td>6</td>\n      <td>AS6</td>\n      <td>Z</td>\n      <td>12.7</td>\n      <td>9.1</td>\n      <td>11.1</td>\n      <td>25</td>\n      <td>255</td>\n    </tr>\n    <tr>\n      <th>4</th>\n      <td>2014</td>\n      <td>ACURA</td>\n      <td>RDX AWD</td>\n      <td>SUV - SMALL</td>\n      <td>3.5</td>\n      <td>6</td>\n      <td>AS6</td>\n      <td>Z</td>\n      <td>12.1</td>\n      <td>8.7</td>\n      <td>10.6</td>\n      <td>27</td>\n      <td>244</td>\n    </tr>\n  </tbody>\n</table>\n</div>"
                    },
                    "metadata": {}
                }
            ]
        },
        {
            "metadata": {},
            "cell_type": "code",
            "source": "df.columns",
            "execution_count": 5,
            "outputs": [
                {
                    "output_type": "execute_result",
                    "execution_count": 5,
                    "data": {
                        "text/plain": "Index(['MODELYEAR', 'MAKE', 'MODEL', 'VEHICLECLASS', 'ENGINESIZE', 'CYLINDERS',\n       'TRANSMISSION', 'FUELTYPE', 'FUELCONSUMPTION_CITY',\n       'FUELCONSUMPTION_HWY', 'FUELCONSUMPTION_COMB',\n       'FUELCONSUMPTION_COMB_MPG', 'CO2EMISSIONS'],\n      dtype='object')"
                    },
                    "metadata": {}
                }
            ]
        },
        {
            "metadata": {},
            "cell_type": "code",
            "source": "cdf=df[['ENGINESIZE','CYLINDERS','FUELCONSUMPTION_CITY',\n       'FUELCONSUMPTION_HWY', 'FUELCONSUMPTION_COMB','CO2EMISSIONS']]",
            "execution_count": 6,
            "outputs": []
        },
        {
            "metadata": {},
            "cell_type": "code",
            "source": "msk=np.random.rand(len(df))<0.8\ntrain=df[msk]\ntest=df[~msk]",
            "execution_count": 8,
            "outputs": []
        },
        {
            "metadata": {},
            "cell_type": "code",
            "source": "x=np.asanyarray(train[['ENGINESIZE','CYLINDERS','FUELCONSUMPTION_COMB']])\ny=np.asanyarray(train[['CO2EMISSIONS']])",
            "execution_count": 11,
            "outputs": []
        },
        {
            "metadata": {},
            "cell_type": "code",
            "source": "from sklearn import linear_model\nreg=linear_model.LinearRegression()\nreg.fit(x,y)\ncoef=reg.coef_\ncoef",
            "execution_count": 17,
            "outputs": [
                {
                    "output_type": "execute_result",
                    "execution_count": 17,
                    "data": {
                        "text/plain": "array([[10.72618876,  6.66134537, 10.18709069]])"
                    },
                    "metadata": {}
                }
            ]
        },
        {
            "metadata": {},
            "cell_type": "code",
            "source": "x=np.asanyarray(test[['ENGINESIZE','CYLINDERS','FUELCONSUMPTION_COMB']])\nactual=np.asanyarray(test[['CO2EMISSIONS']])\npredict=reg.predict(x)\npredict",
            "execution_count": 20,
            "outputs": [
                {
                    "output_type": "execute_result",
                    "execution_count": 20,
                    "data": {
                        "text/plain": "array([[244.52163663],\n       [256.85396507],\n       [261.94751041],\n       [317.57637105],\n       [206.9599902 ],\n       [220.82177901],\n       [218.16578996],\n       [205.94128113],\n       [343.39311965],\n       [367.8421373 ],\n       [297.9513497 ],\n       [298.97005877],\n       [262.58885083],\n       [262.58885083],\n       [284.6003122 ],\n       [376.50256116],\n       [376.50256116],\n       [204.92257206],\n       [204.92257206],\n       [239.15854225],\n       [197.79160858],\n       [216.74694274],\n       [239.15854225],\n       [314.35851442],\n       [305.1901328 ],\n       [204.92257206],\n       [248.32692387],\n       [200.84773579],\n       [259.53272363],\n       [301.62325429],\n       [259.85618247],\n       [257.81876433],\n       [256.80005526],\n       [222.24062623],\n       [333.66565418],\n       [350.98370835],\n       [409.05012528],\n       [261.89360061],\n       [249.66909178],\n       [334.68436325],\n       [199.7212071 ],\n       [193.60895269],\n       [271.06198223],\n       [393.28430098],\n       [404.49010074],\n       [444.59712307],\n       [220.41884732],\n       [331.54318593],\n       [350.49852009],\n       [190.55282548],\n       [190.33718626],\n       [186.26234998],\n       [361.70431985],\n       [314.84370268],\n       [314.84370268],\n       [253.74392806],\n       [293.47358174],\n       [264.94972781],\n       [312.0032147 ],\n       [204.11950222],\n       [206.15692036],\n       [180.15009557],\n       [325.2464326 ],\n       [265.96843688],\n       [301.62325429],\n       [229.58722894],\n       [307.7355087 ],\n       [185.24364091],\n       [173.34259093],\n       [337.89664262],\n       [214.09095368],\n       [395.37562893],\n       [216.12837182],\n       [311.86425478],\n       [311.86425478],\n       [374.78580832],\n       [367.28305345],\n       [217.14708089],\n       [207.97869927],\n       [247.68558345],\n       [261.8396908 ],\n       [255.72743639],\n       [301.56934448],\n       [204.70693283],\n       [342.34884754],\n       [393.28430098],\n       [373.28748825],\n       [321.35609525],\n       [327.55339977],\n       [278.57031436],\n       [264.94972781],\n       [218.38142918],\n       [199.02595688],\n       [234.33454594],\n       [252.67130918],\n       [249.61518197],\n       [258.78356359],\n       [186.37016959],\n       [199.82902672],\n       [305.51359164],\n       [253.58219863],\n       [203.10079315],\n       [179.67048457],\n       [215.10966275],\n       [186.37016959],\n       [194.51984215],\n       [302.78092328],\n       [219.05390991],\n       [330.28606814],\n       [219.18449902],\n       [306.53230071],\n       [306.53230071],\n       [308.56971885],\n       [310.60713699],\n       [248.43474348],\n       [216.34401105],\n       [301.62325429],\n       [216.34401105],\n       [220.41884732],\n       [273.09940036],\n       [198.81031765],\n       [199.82902672],\n       [205.94128113],\n       [263.87710894],\n       [199.61338749],\n       [204.92257206],\n       [400.20241877],\n       [261.57014176],\n       [389.04773528],\n       [219.05390991],\n       [299.40133723],\n       [298.16698893],\n       [261.8396908 ],\n       [338.32792107],\n       [265.64497804],\n       [269.71981431],\n       [185.29755072],\n       [183.52968162],\n       [185.56709975],\n       [185.56709975],\n       [200.09857575],\n       [213.07224461],\n       [205.83346152],\n       [205.94128113],\n       [309.85797695],\n       [247.57776384],\n       [245.5403457 ],\n       [283.95897178],\n       [361.81213946],\n       [326.74475267],\n       [199.88293652],\n       [304.62547169],\n       [334.3069946 ],\n       [291.08993526],\n       [187.38887866],\n       [182.29533332],\n       [189.4262968 ],\n       [192.48242401],\n       [199.61338749],\n       [189.4262968 ],\n       [189.4262968 ],\n       [194.51984215],\n       [189.4262968 ],\n       [262.96621948],\n       [280.44600307],\n       [196.55726028],\n       [336.39832255],\n       [186.37016959],\n       [247.52385403],\n       [252.61739937],\n       [256.90787488],\n       [249.56127217],\n       [254.87045674],\n       [266.0762565 ],\n       [266.0762565 ],\n       [233.90326748],\n       [242.21466946],\n       [301.33093575],\n       [308.46189923],\n       [251.38305108],\n       [299.29351762],\n       [300.31222668],\n       [322.19030539],\n       [271.06198223],\n       [324.0348538 ],\n       [313.84776312],\n       [257.81876433],\n       [258.8374734 ],\n       [167.87167693],\n       [392.99755971],\n       [392.99755971],\n       [216.39792085],\n       [218.43533899],\n       [278.40858494],\n       [239.42809129],\n       [175.6495581 ],\n       [278.40858494],\n       [348.67674118],\n       [223.63670395],\n       [284.52083935],\n       [320.57858845],\n       [221.59928581],\n       [253.69001825],\n       [204.92257206],\n       [224.07797529],\n       [268.00585502],\n       [207.97869927],\n       [252.72521899],\n       [227.1341025 ],\n       [268.80892486]])"
                    },
                    "metadata": {}
                }
            ]
        },
        {
            "metadata": {},
            "cell_type": "code",
            "source": "mse=np.mean((predict-actual) ** 2)\nmse",
            "execution_count": 23,
            "outputs": [
                {
                    "output_type": "execute_result",
                    "execution_count": 23,
                    "data": {
                        "text/plain": "552.3608137129597"
                    },
                    "metadata": {}
                }
            ]
        },
        {
            "metadata": {},
            "cell_type": "code",
            "source": "variance= reg.score(x,actual)\nvariance",
            "execution_count": 26,
            "outputs": [
                {
                    "output_type": "execute_result",
                    "execution_count": 26,
                    "data": {
                        "text/plain": "0.8598625375989315"
                    },
                    "metadata": {}
                }
            ]
        },
        {
            "metadata": {},
            "cell_type": "code",
            "source": "",
            "execution_count": null,
            "outputs": []
        }
    ],
    "metadata": {
        "kernelspec": {
            "name": "python3",
            "display_name": "Python 3.7",
            "language": "python"
        },
        "language_info": {
            "name": "python",
            "version": "3.7.10",
            "mimetype": "text/x-python",
            "codemirror_mode": {
                "name": "ipython",
                "version": 3
            },
            "pygments_lexer": "ipython3",
            "nbconvert_exporter": "python",
            "file_extension": ".py"
        }
    },
    "nbformat": 4,
    "nbformat_minor": 1
}